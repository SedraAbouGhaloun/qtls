{
 "cells": [
  {
   "cell_type": "code",
   "execution_count": 1,
   "id": "f5e9a797",
   "metadata": {
    "ExecuteTime": {
     "end_time": "2022-11-15T14:25:56.951710Z",
     "start_time": "2022-11-15T14:25:45.353140Z"
    }
   },
   "outputs": [],
   "source": [
    "import pandas as pd"
   ]
  },
  {
   "cell_type": "code",
   "execution_count": 5,
   "id": "5e839d15",
   "metadata": {
    "ExecuteTime": {
     "end_time": "2022-11-15T13:16:03.389204Z",
     "start_time": "2022-11-15T13:09:31.964296Z"
    }
   },
   "outputs": [],
   "source": [
    "# trans = pd.read_csv('2018-09-04-trans-eQTLsFDR-CohortInfoRemoved-BonferroniAdded.txt', sep='\\t')"
   ]
  },
  {
   "cell_type": "code",
   "execution_count": 101,
   "id": "58c13901",
   "metadata": {
    "ExecuteTime": {
     "end_time": "2022-11-15T16:29:42.988920Z",
     "start_time": "2022-11-15T16:29:42.885557Z"
    }
   },
   "outputs": [],
   "source": [
    "sig_trans = pd.read_csv('2018-09-04-trans-eQTLsFDR0.05-CohortInfoRemoved-BonferroniAdded.txt', sep='\\t')"
   ]
  },
  {
   "cell_type": "code",
   "execution_count": 123,
   "id": "0cc6e00a",
   "metadata": {
    "ExecuteTime": {
     "end_time": "2022-11-15T17:26:57.157560Z",
     "start_time": "2022-11-15T17:26:57.151048Z"
    }
   },
   "outputs": [],
   "source": [
    "def rename_columns(df):\n",
    "    df= df.rename(columns= {\"#CHROM\":'chr_name',\n",
    "                            \"POS\":\"chr_position\",\n",
    "                            \"ALT\":\"effect_allele\", \n",
    "                            \"REF\":\"other_allele\",\n",
    "                            \"BETA\":\"effect_weight\"})\n",
    "    return(df)"
   ]
  },
  {
   "cell_type": "code",
   "execution_count": 66,
   "id": "20dd7e34",
   "metadata": {
    "ExecuteTime": {
     "end_time": "2022-11-15T16:27:08.644098Z",
     "start_time": "2022-11-15T16:27:08.632400Z"
    }
   },
   "outputs": [],
   "source": [
    "def drop_duplicated_variants(df):\n",
    "    \n",
    "    ''' drops variants that comes from different studies, variants that have different alternatives but same rsids,\n",
    "              and variants that have same postion reference and alternative, but different rsid. \n",
    "    returns df with dropped duplicated variants, and the number of SNPs that have switched REF and ALT and their Pos '''\n",
    "    \n",
    "    # drop variants that comes from different studies \n",
    "    df=df.drop_duplicates(subset=['ID','POS','REF','ALT','#CHROM']).reset_index(drop =True)  \n",
    "    \n",
    "    # drop variants that have different alternatives\n",
    "    df=df.drop_duplicates(subset=['ID','POS','REF','#CHROM']).reset_index(drop =True) \n",
    "    \n",
    "    # drop variants that have same postion and alternative, but different ID\n",
    "    df=df.drop_duplicates(subset=['POS','REF','ALT','#CHROM']).reset_index(drop =True)\n",
    "    \n",
    "    #check everithing is unique \n",
    "    q = df.groupby(['#CHROM','POS']).size().reset_index(name='Freq').sort_values(by='Freq',ascending=False)\n",
    "    print (\"we have \" + str(len(q.loc[q.Freq == 2].POS)) + \" variants that have switched REF and ALT\")\n",
    "    \n",
    "    return(df, q.loc[q.Freq > 1].POS)"
   ]
  },
  {
   "cell_type": "code",
   "execution_count": 102,
   "id": "5d14c382",
   "metadata": {
    "ExecuteTime": {
     "end_time": "2022-11-15T16:29:46.752892Z",
     "start_time": "2022-11-15T16:29:46.732155Z"
    }
   },
   "outputs": [],
   "source": [
    "sig_trans = sig_trans.sort_values(by=\"Pvalue\").reset_index(drop=True)"
   ]
  },
  {
   "cell_type": "code",
   "execution_count": 103,
   "id": "c1fcfebf",
   "metadata": {
    "ExecuteTime": {
     "end_time": "2022-11-15T16:29:48.087242Z",
     "start_time": "2022-11-15T16:29:48.076951Z"
    }
   },
   "outputs": [],
   "source": [
    "sig_trans = sig_trans.rename(columns= { \"SNPChr\":\"#CHROM\",\n",
    "                                        \"SNPPos\":\"POS\",\n",
    "                                        \"SNP\":\"ID\",\n",
    "                                        \"AssessedAllele\":\"ALT\", \n",
    "                                        \"OtherAllele\":\"REF\",\n",
    "                                        \"Pvalue\":\"BETA\"\n",
    "                                      })"
   ]
  },
  {
   "cell_type": "code",
   "execution_count": 105,
   "id": "d8036e3a",
   "metadata": {
    "ExecuteTime": {
     "end_time": "2022-11-15T16:29:53.108399Z",
     "start_time": "2022-11-15T16:29:53.097086Z"
    }
   },
   "outputs": [],
   "source": [
    "sig_trans = sig_trans[['#CHROM'  ,'POS' ,'ID'  , 'REF' ,    'ALT',  'BETA']]"
   ]
  },
  {
   "cell_type": "code",
   "execution_count": 106,
   "id": "f283d576",
   "metadata": {
    "ExecuteTime": {
     "end_time": "2022-11-15T16:29:55.358496Z",
     "start_time": "2022-11-15T16:29:55.306916Z"
    }
   },
   "outputs": [
    {
     "name": "stderr",
     "output_type": "stream",
     "text": [
      "/tmp/ipykernel_628459/1600328138.py:1: SettingWithCopyWarning: \n",
      "A value is trying to be set on a copy of a slice from a DataFrame.\n",
      "Try using .loc[row_indexer,col_indexer] = value instead\n",
      "\n",
      "See the caveats in the documentation: https://pandas.pydata.org/pandas-docs/stable/user_guide/indexing.html#returning-a-view-versus-a-copy\n",
      "  sig_trans.loc[:, ('BETA')] = -np.log10(sig_trans['BETA'])\n"
     ]
    }
   ],
   "source": [
    "sig_trans.loc[:, ('BETA')] = -np.log10(sig_trans['BETA'])"
   ]
  },
  {
   "cell_type": "code",
   "execution_count": 109,
   "id": "8188f21a",
   "metadata": {
    "ExecuteTime": {
     "end_time": "2022-11-15T16:30:26.946626Z",
     "start_time": "2022-11-15T16:30:26.929217Z"
    }
   },
   "outputs": [
    {
     "data": {
      "text/html": [
       "<div>\n",
       "<style scoped>\n",
       "    .dataframe tbody tr th:only-of-type {\n",
       "        vertical-align: middle;\n",
       "    }\n",
       "\n",
       "    .dataframe tbody tr th {\n",
       "        vertical-align: top;\n",
       "    }\n",
       "\n",
       "    .dataframe thead th {\n",
       "        text-align: right;\n",
       "    }\n",
       "</style>\n",
       "<table border=\"1\" class=\"dataframe\">\n",
       "  <thead>\n",
       "    <tr style=\"text-align: right;\">\n",
       "      <th></th>\n",
       "      <th>#CHROM</th>\n",
       "      <th>POS</th>\n",
       "      <th>ID</th>\n",
       "      <th>REF</th>\n",
       "      <th>ALT</th>\n",
       "      <th>BETA</th>\n",
       "    </tr>\n",
       "  </thead>\n",
       "  <tbody>\n",
       "    <tr>\n",
       "      <th>0</th>\n",
       "      <td>1</td>\n",
       "      <td>248039451</td>\n",
       "      <td>rs3811444</td>\n",
       "      <td>C</td>\n",
       "      <td>T</td>\n",
       "      <td>307.947346</td>\n",
       "    </tr>\n",
       "    <tr>\n",
       "      <th>1</th>\n",
       "      <td>3</td>\n",
       "      <td>56849749</td>\n",
       "      <td>rs1354034</td>\n",
       "      <td>C</td>\n",
       "      <td>T</td>\n",
       "      <td>307.947346</td>\n",
       "    </tr>\n",
       "    <tr>\n",
       "      <th>2</th>\n",
       "      <td>12</td>\n",
       "      <td>69732105</td>\n",
       "      <td>rs4761234</td>\n",
       "      <td>T</td>\n",
       "      <td>C</td>\n",
       "      <td>307.947346</td>\n",
       "    </tr>\n",
       "    <tr>\n",
       "      <th>3</th>\n",
       "      <td>3</td>\n",
       "      <td>56849749</td>\n",
       "      <td>rs1354034</td>\n",
       "      <td>C</td>\n",
       "      <td>T</td>\n",
       "      <td>307.947346</td>\n",
       "    </tr>\n",
       "    <tr>\n",
       "      <th>4</th>\n",
       "      <td>3</td>\n",
       "      <td>56865776</td>\n",
       "      <td>rs12485738</td>\n",
       "      <td>G</td>\n",
       "      <td>A</td>\n",
       "      <td>307.947346</td>\n",
       "    </tr>\n",
       "    <tr>\n",
       "      <th>...</th>\n",
       "      <td>...</td>\n",
       "      <td>...</td>\n",
       "      <td>...</td>\n",
       "      <td>...</td>\n",
       "      <td>...</td>\n",
       "      <td>...</td>\n",
       "    </tr>\n",
       "    <tr>\n",
       "      <th>59781</th>\n",
       "      <td>6</td>\n",
       "      <td>31240721</td>\n",
       "      <td>rs114415823</td>\n",
       "      <td>C</td>\n",
       "      <td>T</td>\n",
       "      <td>5.080321</td>\n",
       "    </tr>\n",
       "    <tr>\n",
       "      <th>59782</th>\n",
       "      <td>9</td>\n",
       "      <td>136942136</td>\n",
       "      <td>rs10821556</td>\n",
       "      <td>C</td>\n",
       "      <td>A</td>\n",
       "      <td>5.080321</td>\n",
       "    </tr>\n",
       "    <tr>\n",
       "      <th>59783</th>\n",
       "      <td>12</td>\n",
       "      <td>112486818</td>\n",
       "      <td>rs17696736</td>\n",
       "      <td>A</td>\n",
       "      <td>G</td>\n",
       "      <td>5.080321</td>\n",
       "    </tr>\n",
       "    <tr>\n",
       "      <th>59784</th>\n",
       "      <td>6</td>\n",
       "      <td>31379115</td>\n",
       "      <td>rs116204553</td>\n",
       "      <td>G</td>\n",
       "      <td>A</td>\n",
       "      <td>5.080321</td>\n",
       "    </tr>\n",
       "    <tr>\n",
       "      <th>59785</th>\n",
       "      <td>12</td>\n",
       "      <td>112871372</td>\n",
       "      <td>rs11066301</td>\n",
       "      <td>A</td>\n",
       "      <td>G</td>\n",
       "      <td>5.080321</td>\n",
       "    </tr>\n",
       "  </tbody>\n",
       "</table>\n",
       "<p>59786 rows × 6 columns</p>\n",
       "</div>"
      ],
      "text/plain": [
       "       #CHROM        POS           ID REF ALT        BETA\n",
       "0           1  248039451    rs3811444   C   T  307.947346\n",
       "1           3   56849749    rs1354034   C   T  307.947346\n",
       "2          12   69732105    rs4761234   T   C  307.947346\n",
       "3           3   56849749    rs1354034   C   T  307.947346\n",
       "4           3   56865776   rs12485738   G   A  307.947346\n",
       "...       ...        ...          ...  ..  ..         ...\n",
       "59781       6   31240721  rs114415823   C   T    5.080321\n",
       "59782       9  136942136   rs10821556   C   A    5.080321\n",
       "59783      12  112486818   rs17696736   A   G    5.080321\n",
       "59784       6   31379115  rs116204553   G   A    5.080321\n",
       "59785      12  112871372   rs11066301   A   G    5.080321\n",
       "\n",
       "[59786 rows x 6 columns]"
      ]
     },
     "execution_count": 109,
     "metadata": {},
     "output_type": "execute_result"
    }
   ],
   "source": [
    "sig_trans"
   ]
  },
  {
   "cell_type": "code",
   "execution_count": 112,
   "id": "53b942c4",
   "metadata": {
    "ExecuteTime": {
     "end_time": "2022-11-15T16:30:58.085356Z",
     "start_time": "2022-11-15T16:30:58.053520Z"
    }
   },
   "outputs": [
    {
     "name": "stdout",
     "output_type": "stream",
     "text": [
      "we have 0 variants that have switched REF and ALT\n"
     ]
    }
   ],
   "source": [
    "sig_trans_qtl,pos = drop_duplicated_variants(sig_trans)"
   ]
  },
  {
   "cell_type": "code",
   "execution_count": 122,
   "id": "eb9f9988",
   "metadata": {
    "ExecuteTime": {
     "end_time": "2022-11-15T17:21:31.258484Z",
     "start_time": "2022-11-15T17:21:31.250527Z"
    },
    "scrolled": true
   },
   "outputs": [
    {
     "data": {
      "text/plain": [
       "array([ 1,  3, 12,  7,  2,  6, 17, 10,  4, 11,  5, 19, 15,  9, 20, 14,  8,\n",
       "       21, 16, 22, 13, 18])"
      ]
     },
     "execution_count": 122,
     "metadata": {},
     "output_type": "execute_result"
    }
   ],
   "source": [
    "sig_trans_qtl['#CHROM'].unique()"
   ]
  },
  {
   "cell_type": "code",
   "execution_count": 115,
   "id": "dcd86c06",
   "metadata": {
    "ExecuteTime": {
     "end_time": "2022-11-15T17:17:30.080153Z",
     "start_time": "2022-11-15T17:17:29.922764Z"
    }
   },
   "outputs": [],
   "source": [
    "!mkdir dataset_trans_qtls"
   ]
  },
  {
   "cell_type": "code",
   "execution_count": 116,
   "id": "64e56076",
   "metadata": {
    "ExecuteTime": {
     "end_time": "2022-11-15T17:19:59.230426Z",
     "start_time": "2022-11-15T17:19:59.225552Z"
    }
   },
   "outputs": [],
   "source": [
    "path ='/dh-projects/uk_bb_intergenics/analysis/development/aboughas/results/dataset_trans_qtls/subsets_pgs'"
   ]
  },
  {
   "cell_type": "code",
   "execution_count": 117,
   "id": "8e5eabcb",
   "metadata": {
    "ExecuteTime": {
     "end_time": "2022-11-15T17:20:48.331491Z",
     "start_time": "2022-11-15T17:20:48.202453Z"
    }
   },
   "outputs": [],
   "source": [
    "sig_trans_qtl.to_csv(path+'/variant_subset.100k.tsv',sep ='\\t', index = False )"
   ]
  },
  {
   "cell_type": "code",
   "execution_count": 124,
   "id": "379f2e91",
   "metadata": {
    "ExecuteTime": {
     "end_time": "2022-11-15T17:32:33.527340Z",
     "start_time": "2022-11-15T17:32:33.520519Z"
    }
   },
   "outputs": [],
   "source": [
    "sig_trans_qtl = rename_columns( sig_trans_qtl)"
   ]
  },
  {
   "cell_type": "code",
   "execution_count": 125,
   "id": "c3fa2caf",
   "metadata": {
    "ExecuteTime": {
     "end_time": "2022-11-15T17:32:59.804495Z",
     "start_time": "2022-11-15T17:32:59.731289Z"
    }
   },
   "outputs": [],
   "source": [
    "sig_trans_qtl.to_csv('dataset_trans_qtls/dataset_trans_qtls.txt',sep ='\\t', index = False )"
   ]
  }
 ],
 "metadata": {
  "kernelspec": {
   "display_name": "Python [conda env:miniconda3-u013s]",
   "language": "python",
   "name": "conda-env-miniconda3-u013s-py"
  },
  "language_info": {
   "codemirror_mode": {
    "name": "ipython",
    "version": 3
   },
   "file_extension": ".py",
   "mimetype": "text/x-python",
   "name": "python",
   "nbconvert_exporter": "python",
   "pygments_lexer": "ipython3",
   "version": "3.9.13"
  },
  "toc": {
   "base_numbering": 1,
   "nav_menu": {},
   "number_sections": true,
   "sideBar": true,
   "skip_h1_title": false,
   "title_cell": "Table of Contents",
   "title_sidebar": "Contents",
   "toc_cell": false,
   "toc_position": {},
   "toc_section_display": true,
   "toc_window_display": false
  },
  "varInspector": {
   "cols": {
    "lenName": 16,
    "lenType": 16,
    "lenVar": 40
   },
   "kernels_config": {
    "python": {
     "delete_cmd_postfix": "",
     "delete_cmd_prefix": "del ",
     "library": "var_list.py",
     "varRefreshCmd": "print(var_dic_list())"
    },
    "r": {
     "delete_cmd_postfix": ") ",
     "delete_cmd_prefix": "rm(",
     "library": "var_list.r",
     "varRefreshCmd": "cat(var_dic_list()) "
    }
   },
   "types_to_exclude": [
    "module",
    "function",
    "builtin_function_or_method",
    "instance",
    "_Feature"
   ],
   "window_display": false
  }
 },
 "nbformat": 4,
 "nbformat_minor": 5
}
