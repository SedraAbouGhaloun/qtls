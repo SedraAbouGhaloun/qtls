{
 "cells": [
  {
   "cell_type": "code",
   "execution_count": 14,
   "id": "4c4870f5",
   "metadata": {},
   "outputs": [],
   "source": [
    "from urllib.request import urlopen as uReq\n",
    "from bs4 import BeautifulSoup as soup\n",
    "from bs4 import BeautifulSoup\n",
    "import requests\n",
    "\n",
    "url = 'https://ftp.ebi.ac.uk/pub/databases/spot/eQTL/sumstats/'\n",
    "uPage = uReq(url)\n",
    "page_soup = BeautifulSoup(uPage.read(), \"html.parser\")\n",
    "uPage.close()"
   ]
  },
  {
   "cell_type": "code",
   "execution_count": 3,
   "id": "82703fda",
   "metadata": {},
   "outputs": [],
   "source": [
    "studies = [p.text for p in page_soup.find_all(\"a\")[5:]]"
   ]
  },
  {
   "cell_type": "code",
   "execution_count": 4,
   "id": "5c9e1381",
   "metadata": {},
   "outputs": [
    {
     "name": "stdout",
     "output_type": "stream",
     "text": [
      "CEDAR/\n",
      "Fairfax_2012/\n",
      "Fairfax_2014/\n",
      "Gilchrist_2021/\n",
      "Kasela_2017/\n",
      "Naranbhai_2015/\n"
     ]
    }
   ],
   "source": [
    "links = []  \n",
    "\n",
    "for study in studies:\n",
    "    try:\n",
    "        url = 'https://ftp.ebi.ac.uk/pub/databases/spot/eQTL/sumstats/' + study + 'tx/'\n",
    "        uPage = uReq(url)\n",
    "        page_soup = BeautifulSoup(uPage.read(), \"html.parser\")\n",
    "        uPage.close()\n",
    "        data = [p.text for p in page_soup.find_all('a') if p.text.endswith('.all.tsv.gz')]\n",
    "        if len(data) == 1:\n",
    "            links.append(data)          \n",
    "        else:\n",
    "            data_naive = [d for d in data if 'naive' in d]\n",
    "            if len(data_naive) == 0:\n",
    "                links += data\n",
    "            elif len(data_naive) == 1:\n",
    "                links.append(data_naive)\n",
    "            elif len(data_naive) > 1:\n",
    "                data_naive_all = [d for d in data_naive if 'all' in d]\n",
    "                if len(data_naive_all) == 0:\n",
    "                    links += data_naive\n",
    "                else:\n",
    "                    links.append(data_naive_all)\n",
    "    except Exception:\n",
    "        print(study)"
   ]
  },
  {
   "cell_type": "code",
   "execution_count": 5,
   "id": "d23c0aa7",
   "metadata": {},
   "outputs": [],
   "source": [
    "def flatten_list(_2d_list):\n",
    "    flat_list = []\n",
    "    for element in _2d_list:\n",
    "        if type(element) is list:\n",
    "            for item in element:\n",
    "                flat_list.append(item)\n",
    "        else:\n",
    "            flat_list.append(element)\n",
    "    return flat_list"
   ]
  },
  {
   "cell_type": "code",
   "execution_count": 6,
   "id": "9173d95d",
   "metadata": {},
   "outputs": [],
   "source": [
    "tissues_list = flatten_list(links)"
   ]
  },
  {
   "cell_type": "code",
   "execution_count": 7,
   "id": "3df10c80",
   "metadata": {},
   "outputs": [],
   "source": [
    "links_list = ['https://ftp.ebi.ac.uk/pub/databases/spot/eQTL/sumstats/'+studies[i]+'tx/'+tissues_list[j]\n",
    "              for i in range (len(studies)) \n",
    "              for j in range (len(tissues_list)) \n",
    "              if studies[i][:-1] in tissues_list[j] ]"
   ]
  },
  {
   "cell_type": "code",
   "execution_count": 8,
   "id": "184a29f0",
   "metadata": {},
   "outputs": [],
   "source": [
    "with open('links.txt', 'w') as fp:\n",
    "    for item in links_list:\n",
    "        fp.write(item + \"\\n\")\n"
   ]
  },
  {
   "cell_type": "code",
   "execution_count": 21,
   "id": "16873390",
   "metadata": {},
   "outputs": [],
   "source": [
    "from subprocess import call\n",
    "import multiprocessing as mp"
   ]
  },
  {
   "cell_type": "code",
   "execution_count": 34,
   "id": "474dd453",
   "metadata": {},
   "outputs": [],
   "source": [
    "def load_study(path):\n",
    "    call (['wget',path])\n",
    "    print(path + ' downloaded')\n",
    "    call(['gunzip', path.split('/')[10]])    \n",
    "    print(path + ' unzipped')"
   ]
  },
  {
   "cell_type": "code",
   "execution_count": 144,
   "id": "a7ed8971",
   "metadata": {},
   "outputs": [],
   "source": [
    "pool_obj = mp.Pool(10)"
   ]
  },
  {
   "cell_type": "code",
   "execution_count": 53,
   "id": "82813b8d",
   "metadata": {},
   "outputs": [],
   "source": [
    "pool_obj.map(load_study, links_list)"
   ]
  },
  {
   "cell_type": "code",
   "execution_count": 156,
   "id": "a7cc4223",
   "metadata": {},
   "outputs": [],
   "source": [
    "from os import listdir\n",
    "\n",
    "def find_tsv_filenames( path_to_dir, suffix=\".tsv\" ):\n",
    "    filenames = listdir(path_to_dir)\n",
    "    return [ filename for filename in filenames if filename.endswith( suffix ) ]"
   ]
  },
  {
   "cell_type": "code",
   "execution_count": 157,
   "id": "bb97aba2",
   "metadata": {},
   "outputs": [],
   "source": [
    "loaded = find_tsv_filenames('.')"
   ]
  },
  {
   "cell_type": "code",
   "execution_count": 158,
   "id": "717863c6",
   "metadata": {},
   "outputs": [
    {
     "data": {
      "text/plain": [
       "91"
      ]
     },
     "execution_count": 158,
     "metadata": {},
     "output_type": "execute_result"
    }
   ],
   "source": [
    "len(loaded)\n"
   ]
  },
  {
   "cell_type": "code",
   "execution_count": 159,
   "id": "4f63ae4d",
   "metadata": {},
   "outputs": [],
   "source": [
    "not_loaded = []\n",
    "\n",
    "for i in range (len(links_list)):\n",
    "    check = False\n",
    "    for j in range (len(loaded)):\n",
    "        if (loaded[j]  in links_list[i]):\n",
    "            check = True\n",
    "        else:\n",
    "            continue\n",
    "    if (not check):\n",
    "        not_loaded.append(links_list[i])"
   ]
  },
  {
   "cell_type": "code",
   "execution_count": 160,
   "id": "1e97f4e3",
   "metadata": {},
   "outputs": [
    {
     "data": {
      "text/plain": [
       "[]"
      ]
     },
     "execution_count": 160,
     "metadata": {},
     "output_type": "execute_result"
    }
   ],
   "source": [
    "not_loaded"
   ]
  }
 ],
 "metadata": {
  "kernelspec": {
   "display_name": "Python [conda env:miniconda3-u013]",
   "language": "python",
   "name": "conda-env-miniconda3-u013-py"
  },
  "language_info": {
   "codemirror_mode": {
    "name": "ipython",
    "version": 3
   },
   "file_extension": ".py",
   "mimetype": "text/x-python",
   "name": "python",
   "nbconvert_exporter": "python",
   "pygments_lexer": "ipython3",
   "version": "3.9.13"
  }
 },
 "nbformat": 4,
 "nbformat_minor": 5
}
