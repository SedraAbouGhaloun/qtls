{
 "cells": [
  {
   "cell_type": "code",
   "execution_count": 1,
   "id": "68218399",
   "metadata": {
    "ExecuteTime": {
     "end_time": "2022-11-08T14:54:15.649017Z",
     "start_time": "2022-11-08T14:53:35.490716Z"
    }
   },
   "outputs": [],
   "source": [
    "import numpy as np \n",
    "import os\n",
    "import pandas as pd\n",
    "from sklearn.decomposition import PCA\n",
    "import matplotlib.pyplot as plt\n",
    "plt.style.use('default')\n",
    "import decimal\n",
    "\n"
   ]
  },
  {
   "cell_type": "code",
   "execution_count": 2,
   "id": "acbba6e9",
   "metadata": {
    "ExecuteTime": {
     "end_time": "2022-11-08T14:54:18.041552Z",
     "start_time": "2022-11-08T14:54:18.033919Z"
    }
   },
   "outputs": [],
   "source": [
    "def prepare_list(x):\n",
    "    y = []\n",
    "    for i in range (len(x)):\n",
    "        if i == 0:\n",
    "            y.append(x[i])\n",
    "        else:\n",
    "            temp = y[i-1]\n",
    "            y.append(temp + x[i])\n",
    "    return y"
   ]
  },
  {
   "cell_type": "markdown",
   "id": "9c494902",
   "metadata": {
    "heading_collapsed": true
   },
   "source": [
    "# top pval"
   ]
  },
  {
   "cell_type": "code",
   "execution_count": 3,
   "id": "911e78e0",
   "metadata": {
    "ExecuteTime": {
     "end_time": "2022-10-30T14:30:46.131228Z",
     "start_time": "2022-10-30T14:30:43.708481Z"
    },
    "hidden": true
   },
   "outputs": [],
   "source": [
    "top_pval_path='/dh-projects/uk_bb_intergenics/analysis/development/aboughas/results/dataset_top_100k_pval/splits/'\n",
    "obs_top_p=pd.read_csv(top_pval_path +'all_chrs_train.dataset_top_100k_pval-100k.obs.csv')\n",
    "\n",
    "var_top_p=pd.read_csv(top_pval_path +'all_chrs_train.dataset_top_100k_pval-100k.var.csv')\n",
    "\n",
    "x_top_p=len(obs_top_p.index)\n",
    "\n",
    "y_top_p=len(var_top_p.index)\n",
    "\n",
    "dtype_top_p = pd.read_pickle(top_pval_path+'all_chrs_train.dataset_top_100k_pval-100k.uns.pkl')"
   ]
  },
  {
   "cell_type": "code",
   "execution_count": 4,
   "id": "753bc3fd",
   "metadata": {
    "ExecuteTime": {
     "end_time": "2022-10-30T14:30:46.199481Z",
     "start_time": "2022-10-30T14:30:46.194360Z"
    },
    "hidden": true,
    "scrolled": false
   },
   "outputs": [],
   "source": [
    "top_p=np.memmap(mode='r',shape=(x_top_p,y_top_p),dtype=dtype_top_p['dtype'],\n",
    "                filename=top_pval_path+'all_chrs_train.dataset_top_100k_pval-100k.X.npy')"
   ]
  },
  {
   "cell_type": "code",
   "execution_count": 5,
   "id": "02578661",
   "metadata": {
    "ExecuteTime": {
     "end_time": "2022-10-30T15:47:40.117790Z",
     "start_time": "2022-10-30T14:31:11.009466Z"
    },
    "hidden": true
   },
   "outputs": [],
   "source": [
    "pca_top_p = PCA(n_components=10_000)\n",
    "pca_top_p.fit(top_p) #Here X -> Genotype Dataset\n",
    "\n",
    "var_per_co_top_p = pca_top_p.explained_variance_ratio_\n",
    "\n"
   ]
  },
  {
   "cell_type": "code",
   "execution_count": 20,
   "id": "5e99afe1",
   "metadata": {
    "ExecuteTime": {
     "end_time": "2022-10-30T19:25:36.322334Z",
     "start_time": "2022-10-30T19:25:36.072563Z"
    },
    "hidden": true
   },
   "outputs": [],
   "source": [
    "with open('top_p.npy', 'wb') as f:\n",
    "    np.save(f, var_per_co_top_p)"
   ]
  },
  {
   "cell_type": "code",
   "execution_count": 18,
   "id": "15b7b07f",
   "metadata": {
    "ExecuteTime": {
     "end_time": "2022-11-08T16:30:14.397625Z",
     "start_time": "2022-11-08T16:30:14.369376Z"
    },
    "hidden": true
   },
   "outputs": [],
   "source": [
    "with open('top_p.npy', 'rb') as f:\n",
    "    top_pval = np.load(f)"
   ]
  },
  {
   "cell_type": "code",
   "execution_count": 19,
   "id": "65e0872c",
   "metadata": {
    "ExecuteTime": {
     "end_time": "2022-11-08T16:30:14.809661Z",
     "start_time": "2022-11-08T16:30:14.801573Z"
    },
    "hidden": true
   },
   "outputs": [
    {
     "data": {
      "text/plain": [
       "0.9968225604643121"
      ]
     },
     "execution_count": 19,
     "metadata": {},
     "output_type": "execute_result"
    }
   ],
   "source": [
    "top_pval.sum()"
   ]
  },
  {
   "cell_type": "code",
   "execution_count": null,
   "id": "37a705a9",
   "metadata": {
    "hidden": true
   },
   "outputs": [],
   "source": [
    "# 2000 0.9573511885700635\n",
    "# 1900 0.9538011688091019\n",
    "# 1800 0.9497146330351272\n",
    "# 1750 0.947414576598893\n",
    "# [2.87089149e-02 1.48555844e-02 1.00670136e-02 ... 3.96479000e-05\n",
    "# 3.94990655e-05 3.91182891e-05]\n",
    "# [13643.81625856  9814.5941059   8079.37565841 ...   507.03456656\n",
    "# 506.08199174   503.63673422]"
   ]
  },
  {
   "cell_type": "markdown",
   "id": "697972c1",
   "metadata": {
    "heading_collapsed": true
   },
   "source": [
    "# all traits top p"
   ]
  },
  {
   "cell_type": "code",
   "execution_count": 29,
   "id": "c2865bac",
   "metadata": {
    "ExecuteTime": {
     "end_time": "2022-11-08T17:14:22.293783Z",
     "start_time": "2022-11-08T17:14:18.962817Z"
    },
    "hidden": true
   },
   "outputs": [],
   "source": [
    "top_pval_alltraits_path='/dh-projects/uk_bb_intergenics/analysis/development/aboughas/results/dataset_all_genes_top_pval/splits/'\n",
    "\n",
    "ob_all_traits=pd.read_csv(top_pval_alltraits_path +'all_chrs_train.dataset_all_genes_top_pval-100k.obs.csv')\n",
    "\n",
    "var_all_traits=pd.read_csv(top_pval_alltraits_path +'all_chrs_train.dataset_all_genes_top_pval-100k.var.csv')\n",
    "\n",
    "x_all_traits=len(ob_all_traits.index)\n",
    "\n",
    "y_all_traits=len(var_all_traits.index)\n",
    "\n",
    "dtype_all_traits = pd.read_pickle(top_pval_alltraits_path+'all_chrs_train.dataset_all_genes_top_pval-100k.uns.pkl')"
   ]
  },
  {
   "cell_type": "code",
   "execution_count": 30,
   "id": "4cabbb24",
   "metadata": {
    "ExecuteTime": {
     "end_time": "2022-11-08T17:15:50.992920Z",
     "start_time": "2022-11-08T17:15:50.983644Z"
    },
    "hidden": true
   },
   "outputs": [],
   "source": [
    "all_traits_bestp=np.memmap(mode='r+',shape=(x_all_traits,y_all_traits),dtype=dtype_all_traits['dtype'],\n",
    "                          filename=top_pval_alltraits_path+'all_chrs_train.dataset_all_genes_top_pval-100k.X.npy')"
   ]
  },
  {
   "cell_type": "code",
   "execution_count": 11,
   "id": "1d1dc78e",
   "metadata": {
    "ExecuteTime": {
     "end_time": "2022-10-30T17:18:06.246443Z",
     "start_time": "2022-10-30T16:05:12.406718Z"
    },
    "hidden": true
   },
   "outputs": [],
   "source": [
    "pca_all_traits_bestp = PCA(n_components=10_000)\n",
    "pca_all_traits_bestp.fit(all_traits_bestp) \n",
    "\n",
    "var_all_traits_bestp = pca_all_traits_bestp.explained_variance_ratio_\n",
    "\n"
   ]
  },
  {
   "cell_type": "code",
   "execution_count": 12,
   "id": "0b5bf31f",
   "metadata": {
    "ExecuteTime": {
     "end_time": "2022-10-30T17:18:06.483998Z",
     "start_time": "2022-10-30T17:18:06.477688Z"
    },
    "hidden": true
   },
   "outputs": [
    {
     "data": {
      "text/plain": [
       "0.7362219062372867"
      ]
     },
     "execution_count": 12,
     "metadata": {},
     "output_type": "execute_result"
    }
   ],
   "source": [
    "var_all_traits_bestp.explained_variance_ratio_.sum()"
   ]
  },
  {
   "cell_type": "code",
   "execution_count": 23,
   "id": "eedf60a8",
   "metadata": {
    "ExecuteTime": {
     "end_time": "2022-10-30T20:00:43.408330Z",
     "start_time": "2022-10-30T20:00:43.194586Z"
    },
    "hidden": true
   },
   "outputs": [],
   "source": [
    "with open('pca_all_traits_bestp.npy', 'wb') as f:\n",
    "    np.save(f, var_all_traits_bestp)"
   ]
  },
  {
   "cell_type": "code",
   "execution_count": 32,
   "id": "755be836",
   "metadata": {
    "ExecuteTime": {
     "end_time": "2022-11-08T17:18:40.338676Z",
     "start_time": "2022-11-08T17:18:40.326800Z"
    },
    "hidden": true
   },
   "outputs": [],
   "source": [
    "with open('pca_all_traits_bestp.npy', 'rb') as f:\n",
    "    all_traits = np.load(f)"
   ]
  },
  {
   "cell_type": "code",
   "execution_count": 33,
   "id": "df31f75b",
   "metadata": {
    "ExecuteTime": {
     "end_time": "2022-11-08T17:18:45.892093Z",
     "start_time": "2022-11-08T17:18:45.884761Z"
    },
    "hidden": true
   },
   "outputs": [
    {
     "data": {
      "text/plain": [
       "0.7362219062372867"
      ]
     },
     "execution_count": 33,
     "metadata": {},
     "output_type": "execute_result"
    }
   ],
   "source": [
    "all_traits.sum()"
   ]
  },
  {
   "cell_type": "code",
   "execution_count": null,
   "id": "c580a3a0",
   "metadata": {
    "ExecuteTime": {
     "start_time": "2022-10-26T15:54:19.677Z"
    },
    "hidden": true
   },
   "outputs": [],
   "source": [
    "# 2000 0.3160543662895987\n",
    "# 10_000 0.7362227152260603\n",
    "# 17_000 0.8735261525786419\n"
   ]
  },
  {
   "cell_type": "markdown",
   "id": "ff14c8d0",
   "metadata": {
    "heading_collapsed": true
   },
   "source": [
    "# most common"
   ]
  },
  {
   "cell_type": "code",
   "execution_count": 4,
   "id": "82947c34",
   "metadata": {
    "ExecuteTime": {
     "end_time": "2022-10-31T15:25:35.591401Z",
     "start_time": "2022-10-31T15:25:33.173421Z"
    },
    "hidden": true
   },
   "outputs": [],
   "source": [
    "most_common_path='/dh-projects/uk_bb_intergenics/analysis/development/aboughas/results/dataset_most_common/splits/'\n",
    "\n",
    "ob_most_common=pd.read_csv(most_common_path +'all_chrs_train.dataset_most_common-100k.obs.csv')\n",
    "\n",
    "var_most_common=pd.read_csv(most_common_path +'all_chrs_train.dataset_most_common-100k.var.csv')\n",
    "\n",
    "x_most_common=len(ob_most_common.index)\n",
    "\n",
    "y_most_common=len(var_most_common.index)\n",
    "\n",
    "dtype_most_common = pd.read_pickle(most_common_path+'all_chrs_train.dataset_most_common-100k.uns.pkl')"
   ]
  },
  {
   "cell_type": "code",
   "execution_count": 5,
   "id": "eea0fbcc",
   "metadata": {
    "ExecuteTime": {
     "end_time": "2022-10-31T15:25:36.579097Z",
     "start_time": "2022-10-31T15:25:36.571842Z"
    },
    "hidden": true
   },
   "outputs": [],
   "source": [
    "most_common=np.memmap(mode='r+',shape=(x_most_common,y_most_common),dtype=dtype_most_common['dtype'],\n",
    "                          filename=most_common_path+'all_chrs_train.dataset_most_common-100k.X.npy')"
   ]
  },
  {
   "cell_type": "code",
   "execution_count": 6,
   "id": "ac8a7ae4",
   "metadata": {
    "ExecuteTime": {
     "end_time": "2022-10-31T16:32:08.204365Z",
     "start_time": "2022-10-31T15:25:38.472428Z"
    },
    "hidden": true
   },
   "outputs": [],
   "source": [
    "pca_most_common = PCA(n_components=10_000)\n",
    "pca_most_common.fit(most_common) \n",
    "\n",
    "var_per_co_most_common = pca_most_common.explained_variance_ratio_\n",
    "\n"
   ]
  },
  {
   "cell_type": "code",
   "execution_count": 12,
   "id": "23578242",
   "metadata": {
    "ExecuteTime": {
     "end_time": "2022-11-01T09:15:18.019142Z",
     "start_time": "2022-11-01T09:15:18.010801Z"
    },
    "hidden": true
   },
   "outputs": [
    {
     "data": {
      "text/plain": [
       "0.9975402239846611"
      ]
     },
     "execution_count": 12,
     "metadata": {},
     "output_type": "execute_result"
    }
   ],
   "source": [
    "var_per_co_most_common.sum()"
   ]
  },
  {
   "cell_type": "code",
   "execution_count": 8,
   "id": "4e458a8c",
   "metadata": {
    "ExecuteTime": {
     "end_time": "2022-10-31T16:35:39.282194Z",
     "start_time": "2022-10-31T16:35:39.260184Z"
    },
    "hidden": true
   },
   "outputs": [],
   "source": [
    "with open('pca_most_common.npy', 'wb') as f:\n",
    "    np.save(f, var_per_co_most_common)"
   ]
  },
  {
   "cell_type": "code",
   "execution_count": 15,
   "id": "fecebc59",
   "metadata": {
    "ExecuteTime": {
     "end_time": "2022-11-08T16:29:54.644492Z",
     "start_time": "2022-11-08T16:29:54.625231Z"
    },
    "hidden": true
   },
   "outputs": [],
   "source": [
    "with open('pca_most_common.npy', 'rb') as f:\n",
    "    most_common = np.load(f)"
   ]
  },
  {
   "cell_type": "markdown",
   "id": "1c79101e",
   "metadata": {
    "heading_collapsed": true
   },
   "source": [
    "# random"
   ]
  },
  {
   "cell_type": "code",
   "execution_count": 13,
   "id": "8360b36a",
   "metadata": {
    "ExecuteTime": {
     "end_time": "2022-11-01T09:15:23.736399Z",
     "start_time": "2022-11-01T09:15:23.188985Z"
    },
    "hidden": true
   },
   "outputs": [],
   "source": [
    "random_path='/dh-projects/uk_bb_intergenics/analysis/development/aboughas/results/dataset_random_select/splits/'\n",
    "\n",
    "ob_random=pd.read_csv(random_path +'all_chrs_train.dataset_random_select-100k.obs.csv')\n",
    "\n",
    "var_random=pd.read_csv(random_path +'all_chrs_train.dataset_random_select-100k.var.csv')\n",
    "\n",
    "x_random=len(ob_random.index)\n",
    "\n",
    "y_random=len(var_random.index)\n",
    "\n",
    "dtype_random = pd.read_pickle(random_path+'all_chrs_train.dataset_random_select-100k.uns.pkl')"
   ]
  },
  {
   "cell_type": "code",
   "execution_count": 22,
   "id": "33ec0221",
   "metadata": {
    "ExecuteTime": {
     "end_time": "2022-11-01T10:25:35.360935Z",
     "start_time": "2022-11-01T10:25:35.059540Z"
    },
    "hidden": true
   },
   "outputs": [],
   "source": [
    "random=np.memmap(mode='r+',shape=(x_random,y_random),dtype=dtype_random['dtype'],\n",
    "                          filename=random_path+'all_chrs_train.dataset_random_select-100k.X.npy')"
   ]
  },
  {
   "cell_type": "code",
   "execution_count": 23,
   "id": "87c5f621",
   "metadata": {
    "ExecuteTime": {
     "end_time": "2022-11-01T11:30:02.192872Z",
     "start_time": "2022-11-01T10:25:39.527929Z"
    },
    "hidden": true
   },
   "outputs": [],
   "source": [
    "pca_random = PCA(n_components=10_000)\n",
    "pca_random.fit(random) \n",
    "\n",
    "var_per_co_random = pca_random.explained_variance_ratio_\n",
    "\n"
   ]
  },
  {
   "cell_type": "code",
   "execution_count": 4,
   "id": "65d09157",
   "metadata": {
    "ExecuteTime": {
     "end_time": "2022-11-01T12:49:26.997455Z",
     "start_time": "2022-11-01T12:49:26.993021Z"
    },
    "hidden": true
   },
   "outputs": [],
   "source": [
    "var_per_co_random.sum()"
   ]
  },
  {
   "cell_type": "code",
   "execution_count": 28,
   "id": "f795c120",
   "metadata": {
    "ExecuteTime": {
     "end_time": "2022-11-01T11:30:57.538510Z",
     "start_time": "2022-11-01T11:30:57.524807Z"
    },
    "hidden": true
   },
   "outputs": [],
   "source": [
    "with open('pca_random.npy', 'wb') as f:\n",
    "    np.save(f, var_per_co_random)"
   ]
  },
  {
   "cell_type": "code",
   "execution_count": 14,
   "id": "e7f274f3",
   "metadata": {
    "ExecuteTime": {
     "end_time": "2022-11-08T16:29:49.345720Z",
     "start_time": "2022-11-08T16:29:49.323148Z"
    },
    "hidden": true
   },
   "outputs": [],
   "source": [
    "with open('pca_random.npy', 'rb') as f:\n",
    "    random = np.load(f)"
   ]
  },
  {
   "cell_type": "code",
   "execution_count": 49,
   "id": "743b7ccb",
   "metadata": {
    "ExecuteTime": {
     "end_time": "2022-11-02T14:20:11.915376Z",
     "start_time": "2022-11-02T14:20:11.907627Z"
    },
    "hidden": true
   },
   "outputs": [
    {
     "data": {
      "text/plain": [
       "0.7416873221040636"
      ]
     },
     "execution_count": 49,
     "metadata": {},
     "output_type": "execute_result"
    }
   ],
   "source": [
    "random.sum()"
   ]
  },
  {
   "cell_type": "markdown",
   "id": "19a25bfd",
   "metadata": {
    "heading_collapsed": true
   },
   "source": [
    "# beta"
   ]
  },
  {
   "cell_type": "code",
   "execution_count": 7,
   "id": "f989f208",
   "metadata": {
    "ExecuteTime": {
     "end_time": "2022-11-01T13:06:29.027822Z",
     "start_time": "2022-11-01T13:06:26.609306Z"
    },
    "hidden": true
   },
   "outputs": [],
   "source": [
    "beta_path='/dh-projects/uk_bb_intergenics/analysis/development/aboughas/results/dataset_top_beta/splits/'\n",
    "\n",
    "ob_beta=pd.read_csv(beta_path +'all_chrs_train.dataset_top_beta-100k.obs.csv')\n",
    "\n",
    "var_beta=pd.read_csv(beta_path +'all_chrs_train.dataset_top_beta-100k.var.csv')\n",
    "\n",
    "x_beta=len(ob_beta.index)\n",
    "\n",
    "y_beta=len(var_beta.index)\n",
    "\n",
    "dtype_beta= pd.read_pickle(beta_path+'all_chrs_train.dataset_top_beta-100k.uns.pkl')"
   ]
  },
  {
   "cell_type": "code",
   "execution_count": 8,
   "id": "bc580192",
   "metadata": {
    "ExecuteTime": {
     "end_time": "2022-11-01T13:06:29.162845Z",
     "start_time": "2022-11-01T13:06:29.159324Z"
    },
    "hidden": true
   },
   "outputs": [],
   "source": [
    "beta=np.memmap(mode='r+',shape=(x_beta,y_beta),dtype=dtype_beta['dtype'],\n",
    "                          filename=beta_path+'all_chrs_train.dataset_top_beta-100k.X.npy')"
   ]
  },
  {
   "cell_type": "code",
   "execution_count": 9,
   "id": "c282c6b0",
   "metadata": {
    "ExecuteTime": {
     "end_time": "2022-11-01T14:10:17.199396Z",
     "start_time": "2022-11-01T13:06:31.731363Z"
    },
    "hidden": true
   },
   "outputs": [],
   "source": [
    "pca_beta = PCA(n_components=10_000)\n",
    "pca_beta.fit(beta) \n",
    "\n",
    "var_per_co_beta = pca_beta.explained_variance_ratio_\n",
    "\n"
   ]
  },
  {
   "cell_type": "code",
   "execution_count": 40,
   "id": "2c0bec8d",
   "metadata": {
    "ExecuteTime": {
     "end_time": "2022-11-02T14:18:03.132378Z",
     "start_time": "2022-11-02T14:18:03.124783Z"
    },
    "hidden": true
   },
   "outputs": [
    {
     "data": {
      "text/plain": [
       "0.7336418118224122"
      ]
     },
     "execution_count": 40,
     "metadata": {},
     "output_type": "execute_result"
    }
   ],
   "source": [
    "var_per_co_beta.sum()"
   ]
  },
  {
   "cell_type": "code",
   "execution_count": 50,
   "id": "c30957c6",
   "metadata": {
    "ExecuteTime": {
     "end_time": "2022-11-02T14:20:15.046862Z",
     "start_time": "2022-11-02T14:20:15.033337Z"
    },
    "hidden": true
   },
   "outputs": [],
   "source": [
    "with open('pca_beta.npy', 'wb') as f:\n",
    "    np.save(f, var_per_co_beta)"
   ]
  },
  {
   "cell_type": "code",
   "execution_count": 12,
   "id": "8b8e251b",
   "metadata": {
    "ExecuteTime": {
     "end_time": "2022-11-08T16:29:37.076929Z",
     "start_time": "2022-11-08T16:29:37.057346Z"
    },
    "hidden": true
   },
   "outputs": [],
   "source": [
    "with open('pca_beta.npy', 'rb') as f:\n",
    "    beta = np.load(f)"
   ]
  },
  {
   "cell_type": "code",
   "execution_count": 13,
   "id": "c6b9ddcc",
   "metadata": {
    "ExecuteTime": {
     "end_time": "2022-11-08T16:29:38.399919Z",
     "start_time": "2022-11-08T16:29:38.391826Z"
    },
    "hidden": true
   },
   "outputs": [
    {
     "data": {
      "text/plain": [
       "0.7336418118224122"
      ]
     },
     "execution_count": 13,
     "metadata": {},
     "output_type": "execute_result"
    }
   ],
   "source": [
    "beta.sum()"
   ]
  },
  {
   "cell_type": "markdown",
   "id": "eaf25679",
   "metadata": {
    "heading_collapsed": true
   },
   "source": [
    "# LD pred"
   ]
  },
  {
   "cell_type": "code",
   "execution_count": 3,
   "id": "97a6596d",
   "metadata": {
    "ExecuteTime": {
     "end_time": "2022-11-08T15:16:34.539256Z",
     "start_time": "2022-11-08T15:16:32.743556Z"
    },
    "hidden": true
   },
   "outputs": [],
   "source": [
    "ld_inf_path ='/dh-projects/uk_bb_intergenics/analysis/development/aboughas/results/dataset_LD_inf_001/splits/'\n",
    "\n",
    "ob_ld_inf =pd.read_csv(ld_inf_path +'all_chrs_train.dataset_LD_inf_001-100k.obs.csv')\n",
    "\n",
    "var_ld_inf=pd.read_csv(ld_inf_path +'all_chrs_train.dataset_LD_inf_001-100k.var.csv')\n",
    "\n",
    "x_ld_inf=len(ob_ld_inf.index)\n",
    "\n",
    "y_ld_inf=len(var_ld_inf.index)\n",
    "\n",
    "dtype_ld_inf= pd.read_pickle(ld_inf_path+'all_chrs_train.dataset_LD_inf_001-100k.uns.pkl')"
   ]
  },
  {
   "cell_type": "code",
   "execution_count": 6,
   "id": "0e770c3a",
   "metadata": {
    "ExecuteTime": {
     "end_time": "2022-11-08T15:19:04.557487Z",
     "start_time": "2022-11-08T15:19:04.545364Z"
    },
    "hidden": true
   },
   "outputs": [],
   "source": [
    "ld_inf = np.memmap(mode='r+',shape=(x_ld_inf,y_ld_inf),dtype=dtype_ld_inf['dtype'],\n",
    "                          filename=ld_inf_path+'all_chrs_train.dataset_LD_inf_001-100k.X.npy')"
   ]
  },
  {
   "cell_type": "code",
   "execution_count": 7,
   "id": "a59921f7",
   "metadata": {
    "ExecuteTime": {
     "end_time": "2022-11-08T16:27:20.852856Z",
     "start_time": "2022-11-08T15:20:12.948909Z"
    },
    "hidden": true
   },
   "outputs": [],
   "source": [
    "pca_ld_inf = PCA(n_components=10_000)\n",
    "pca_ld_inf.fit(ld_inf) \n",
    "\n",
    "var_per_co_ld_inf = pca_ld_inf.explained_variance_ratio_\n",
    "\n"
   ]
  },
  {
   "cell_type": "code",
   "execution_count": 8,
   "id": "5a674a3f",
   "metadata": {
    "ExecuteTime": {
     "end_time": "2022-11-08T16:27:21.022921Z",
     "start_time": "2022-11-08T16:27:21.014808Z"
    },
    "hidden": true
   },
   "outputs": [
    {
     "data": {
      "text/plain": [
       "0.8807508496873573"
      ]
     },
     "execution_count": 8,
     "metadata": {},
     "output_type": "execute_result"
    }
   ],
   "source": [
    "var_per_co_ld_inf.sum()"
   ]
  },
  {
   "cell_type": "code",
   "execution_count": 9,
   "id": "c7a47085",
   "metadata": {
    "ExecuteTime": {
     "end_time": "2022-11-08T16:27:50.157827Z",
     "start_time": "2022-11-08T16:27:50.141731Z"
    },
    "hidden": true
   },
   "outputs": [],
   "source": [
    "with open('pca_ld_inf001.npy', 'wb') as f:\n",
    "    np.save(f, var_per_co_ld_inf)"
   ]
  },
  {
   "cell_type": "code",
   "execution_count": 26,
   "id": "0964e15f",
   "metadata": {
    "ExecuteTime": {
     "end_time": "2022-11-08T16:30:48.905625Z",
     "start_time": "2022-11-08T16:30:48.896374Z"
    },
    "hidden": true
   },
   "outputs": [],
   "source": [
    "with open('pca_ld_inf001.npy', 'rb') as f:\n",
    "    ld_inf001 = np.load(f)"
   ]
  },
  {
   "cell_type": "markdown",
   "id": "8acb87bd",
   "metadata": {
    "heading_collapsed": true
   },
   "source": [
    "# all mapped genes"
   ]
  },
  {
   "cell_type": "code",
   "execution_count": 36,
   "id": "45c56a63",
   "metadata": {
    "ExecuteTime": {
     "end_time": "2022-11-08T17:28:05.181491Z",
     "start_time": "2022-11-08T17:28:04.612832Z"
    },
    "hidden": true
   },
   "outputs": [],
   "source": [
    "all_genes_path ='/dh-projects/uk_bb_intergenics/analysis/development/aboughas/results/dataset_snps_mapped_to_all_genes/splits/'\n",
    "\n",
    "ob_all_genes =pd.read_csv(all_genes_path +'all_chrs_train.dataset_snps_mapped_to_all_genes-100k.obs.csv')\n",
    "\n",
    "var_all_genes=pd.read_csv(all_genes_path +'all_chrs_train.dataset_snps_mapped_to_all_genes-100k.var.csv')\n",
    "\n",
    "x_all_genes=len(ob_all_genes.index)\n",
    "\n",
    "y_all_genes=len(var_all_genes.index)\n",
    "\n",
    "dtype_all_genes= pd.read_pickle(all_genes_path+'all_chrs_train.dataset_snps_mapped_to_all_genes-100k.uns.pkl')"
   ]
  },
  {
   "cell_type": "code",
   "execution_count": 43,
   "id": "404be2fa",
   "metadata": {
    "ExecuteTime": {
     "end_time": "2022-11-08T17:30:43.935023Z",
     "start_time": "2022-11-08T17:30:43.923329Z"
    },
    "hidden": true
   },
   "outputs": [],
   "source": [
    "all_genes = np.memmap(mode='r+',shape=(x_all_genes,y_all_genes),dtype=dtype_all_genes['dtype'],\n",
    "                          filename=all_genes_path+'all_chrs_train.dataset_snps_mapped_to_all_genes-100k.X.npy')"
   ]
  },
  {
   "cell_type": "code",
   "execution_count": 44,
   "id": "49ea0411",
   "metadata": {
    "ExecuteTime": {
     "end_time": "2022-11-08T18:36:44.884347Z",
     "start_time": "2022-11-08T17:31:14.563363Z"
    },
    "hidden": true
   },
   "outputs": [],
   "source": [
    "pca_all_genes = PCA(n_components=10_000)\n",
    "pca_all_genes.fit(all_genes) \n",
    "\n",
    "var_per_co_all_genes = pca_all_genes.explained_variance_ratio_\n",
    "\n"
   ]
  },
  {
   "cell_type": "code",
   "execution_count": 45,
   "id": "9789b84a",
   "metadata": {
    "ExecuteTime": {
     "end_time": "2022-11-08T18:46:48.616205Z",
     "start_time": "2022-11-08T18:46:48.606591Z"
    },
    "hidden": true
   },
   "outputs": [
    {
     "data": {
      "text/plain": [
       "0.7837293306858275"
      ]
     },
     "execution_count": 45,
     "metadata": {},
     "output_type": "execute_result"
    }
   ],
   "source": [
    "var_per_co_all_genes.sum()"
   ]
  },
  {
   "cell_type": "code",
   "execution_count": 46,
   "id": "6a772c34",
   "metadata": {
    "ExecuteTime": {
     "end_time": "2022-11-08T18:47:51.943684Z",
     "start_time": "2022-11-08T18:47:51.920367Z"
    },
    "hidden": true
   },
   "outputs": [],
   "source": [
    "with open('pca_all_genes.npy', 'wb') as f:\n",
    "    np.save(f, var_per_co_all_genes)"
   ]
  },
  {
   "cell_type": "code",
   "execution_count": 47,
   "id": "fba82942",
   "metadata": {
    "ExecuteTime": {
     "end_time": "2022-11-08T18:48:22.802866Z",
     "start_time": "2022-11-08T18:48:22.189820Z"
    },
    "hidden": true
   },
   "outputs": [],
   "source": [
    "with open('pca_all_genes.npy', 'rb') as f:\n",
    "    all_genes = np.load(f)"
   ]
  },
  {
   "cell_type": "markdown",
   "id": "15409833",
   "metadata": {},
   "source": [
    "# Plot pca"
   ]
  },
  {
   "cell_type": "code",
   "execution_count": 48,
   "id": "a84f842e",
   "metadata": {
    "ExecuteTime": {
     "end_time": "2022-11-08T18:48:45.560261Z",
     "start_time": "2022-11-08T18:48:45.549058Z"
    }
   },
   "outputs": [],
   "source": [
    "all_genes = prepare_list(all_genes)"
   ]
  },
  {
   "cell_type": "code",
   "execution_count": 20,
   "id": "21a695bd",
   "metadata": {
    "ExecuteTime": {
     "end_time": "2022-11-08T16:30:20.009475Z",
     "start_time": "2022-11-08T16:30:19.996542Z"
    }
   },
   "outputs": [],
   "source": [
    "top_pval = prepare_list(top_pval)"
   ]
  },
  {
   "cell_type": "code",
   "execution_count": 21,
   "id": "76e7d397",
   "metadata": {
    "ExecuteTime": {
     "end_time": "2022-11-08T16:30:20.531818Z",
     "start_time": "2022-11-08T16:30:20.519670Z"
    }
   },
   "outputs": [],
   "source": [
    "random = prepare_list(random)"
   ]
  },
  {
   "cell_type": "code",
   "execution_count": 22,
   "id": "84b9e23b",
   "metadata": {
    "ExecuteTime": {
     "end_time": "2022-11-08T16:30:20.941735Z",
     "start_time": "2022-11-08T16:30:20.934862Z"
    }
   },
   "outputs": [],
   "source": [
    "beta = prepare_list(beta)"
   ]
  },
  {
   "cell_type": "code",
   "execution_count": 23,
   "id": "ce328aa0",
   "metadata": {
    "ExecuteTime": {
     "end_time": "2022-11-08T16:30:21.312508Z",
     "start_time": "2022-11-08T16:30:21.304345Z"
    }
   },
   "outputs": [],
   "source": [
    "most_common = prepare_list(most_common)"
   ]
  },
  {
   "cell_type": "code",
   "execution_count": 40,
   "id": "35916c38",
   "metadata": {
    "ExecuteTime": {
     "end_time": "2022-11-08T17:29:20.573626Z",
     "start_time": "2022-11-08T17:29:20.561103Z"
    }
   },
   "outputs": [],
   "source": [
    "all_traits = prepare_list(all_traits)"
   ]
  },
  {
   "cell_type": "code",
   "execution_count": 27,
   "id": "80f435ad",
   "metadata": {
    "ExecuteTime": {
     "end_time": "2022-11-08T16:30:55.727863Z",
     "start_time": "2022-11-08T16:30:55.715765Z"
    }
   },
   "outputs": [],
   "source": [
    "ld_inf001 = prepare_list(ld_inf001)"
   ]
  },
  {
   "cell_type": "code",
   "execution_count": 79,
   "id": "a8f75b59",
   "metadata": {
    "ExecuteTime": {
     "end_time": "2022-11-09T11:16:30.665242Z",
     "start_time": "2022-11-09T11:16:30.483610Z"
    },
    "scrolled": false
   },
   "outputs": [
    {
     "data": {
      "image/png": "[encoded data removed]",
      "text/plain": [
       "<Figure size 864x360 with 1 Axes>"
      ]
     },
     "metadata": {
      "needs_background": "light"
     },
     "output_type": "display_data"
    }
   ],
   "source": [
    "# Scree plot for assessing cumulative variance explained by additional functional principal components (fPCs).\n",
    "\n",
    "z = [decimal.Decimal(i) / decimal.Decimal(10) for i in range(0, 11)]\n",
    "fig, ax = plt.subplots(figsize=(12,5))\n",
    "fig.suptitle('Scree plot', fontsize=20)\n",
    "\n",
    "ax.plot(np.asarray(top_pval) *100, color = 'g', label = 'top p-values')\n",
    "ax.plot(np.asarray(random) *100, color = 'r', label = 'random eqtls')\n",
    "ax.plot(np.asarray(beta) *100, color = 'b', label = 'best betas')\n",
    "ax.plot(np.asarray(most_common) *100, color = 'm', label = 'most common')\n",
    "ax.plot(np.asarray(all_traits) *100, color = 'y', label ='all traits top p-val')\n",
    "ax.plot(np.asarray(ld_inf001) *100, label ='LD pred beta_inf 0.01')\n",
    "ax.plot(np.asarray(all_genes)*100, label ='all genes top p-val') #cumulative explained variance\n",
    "plt.grid()\n",
    "\n",
    "# for i in range (0, 10_000,500):\n",
    "#     plt.axvline(x = i, color = 'black', alpha=0.1)\n",
    "# for i in z:\n",
    "#     plt.axhline(y = i, color = 'black', linestyle = '-',alpha=0.1)\n",
    "plt.xlabel(\"principal component\")\n",
    "plt.ylabel(\"variance explained (%)\")\n",
    "\n",
    "ax.legend(loc = 4)\n",
    "plt.show()"
   ]
  }
 ],
 "metadata": {
  "kernelspec": {
   "display_name": "Python [conda env:miniconda3-u013s]",
   "language": "python",
   "name": "conda-env-miniconda3-u013s-py"
  },
  "language_info": {
   "codemirror_mode": {
    "name": "ipython",
    "version": 3
   },
   "file_extension": ".py",
   "mimetype": "text/x-python",
   "name": "python",
   "nbconvert_exporter": "python",
   "pygments_lexer": "ipython3",
   "version": "3.9.13"
  },
  "toc": {
   "base_numbering": 1,
   "nav_menu": {},
   "number_sections": true,
   "sideBar": true,
   "skip_h1_title": false,
   "title_cell": "Table of Contents",
   "title_sidebar": "Contents",
   "toc_cell": false,
   "toc_position": {},
   "toc_section_display": true,
   "toc_window_display": false
  },
  "varInspector": {
   "cols": {
    "lenName": 16,
    "lenType": 16,
    "lenVar": 40
   },
   "kernels_config": {
    "python": {
     "delete_cmd_postfix": "",
     "delete_cmd_prefix": "del ",
     "library": "var_list.py",
     "varRefreshCmd": "print(var_dic_list())"
    },
    "r": {
     "delete_cmd_postfix": ") ",
     "delete_cmd_prefix": "rm(",
     "library": "var_list.r",
     "varRefreshCmd": "cat(var_dic_list()) "
    }
   },
   "types_to_exclude": [
    "module",
    "function",
    "builtin_function_or_method",
    "instance",
    "_Feature"
   ],
   "window_display": false
  }
 },
 "nbformat": 4,
 "nbformat_minor": 5
}
