{
 "cells": [
  {
   "cell_type": "code",
   "execution_count": 2,
   "id": "68218399",
   "metadata": {
    "ExecuteTime": {
     "end_time": "2022-10-31T13:22:30.811532Z",
     "start_time": "2022-10-31T13:22:00.252093Z"
    }
   },
   "outputs": [],
   "source": [
    "import numpy as np \n",
    "import os\n",
    "import pandas as pd\n",
    "from sklearn.decomposition import PCA"
   ]
  },
  {
   "cell_type": "markdown",
   "id": "3e23f9a9",
   "metadata": {},
   "source": [
    "Scikit learn does not offer this \"Enhance number of PCs\" until a certain threshold of overall explained variance \n",
    "(print(sum(pca.explained_variance_ratio_))) is reached, what Julius wanted in the lab meeting. However, you can manuallchoose the n_components (= number of PCs) -> Just play a bit around with it, should be enough to get an idea. Also\n",
    "the exlained variance per PC does not change a lot, when fitting a PCA on for instance 500 components or more. So, \n",
    "you could fit the PCA on a high number of components and then basically trace back how many components you actually \n",
    "need for the threshold.\n"
   ]
  },
  {
   "cell_type": "code",
   "execution_count": 3,
   "id": "911e78e0",
   "metadata": {
    "ExecuteTime": {
     "end_time": "2022-10-30T14:30:46.131228Z",
     "start_time": "2022-10-30T14:30:43.708481Z"
    }
   },
   "outputs": [],
   "source": [
    "top_pval_path='/dh-projects/uk_bb_intergenics/analysis/development/aboughas/results/dataset_top_100k_pval/splits/'\n",
    "obs_top_p=pd.read_csv(top_pval_path +'all_chrs_train.dataset_top_100k_pval-100k.obs.csv')\n",
    "\n",
    "var_top_p=pd.read_csv(top_pval_path +'all_chrs_train.dataset_top_100k_pval-100k.var.csv')\n",
    "\n",
    "x_top_p=len(obs_top_p.index)\n",
    "\n",
    "y_top_p=len(var_top_p.index)\n",
    "\n",
    "dtype_top_p = pd.read_pickle(top_pval_path+'all_chrs_train.dataset_top_100k_pval-100k.uns.pkl')"
   ]
  },
  {
   "cell_type": "code",
   "execution_count": 4,
   "id": "753bc3fd",
   "metadata": {
    "ExecuteTime": {
     "end_time": "2022-10-30T14:30:46.199481Z",
     "start_time": "2022-10-30T14:30:46.194360Z"
    },
    "scrolled": false
   },
   "outputs": [],
   "source": [
    "top_p=np.memmap(mode='r',shape=(x_top_p,y_top_p),dtype=dtype_top_p['dtype'],\n",
    "                filename=top_pval_path+'all_chrs_train.dataset_top_100k_pval-100k.X.npy')"
   ]
  },
  {
   "cell_type": "code",
   "execution_count": 5,
   "id": "02578661",
   "metadata": {
    "ExecuteTime": {
     "end_time": "2022-10-30T15:47:40.117790Z",
     "start_time": "2022-10-30T14:31:11.009466Z"
    }
   },
   "outputs": [],
   "source": [
    "pca_top_p = PCA(n_components=10_000)\n",
    "pca_top_p.fit(top_p) #Here X -> Genotype Dataset\n",
    "\n",
    "var_per_co_top_p = pca_top_p.explained_variance_ratio_\n",
    "\n"
   ]
  },
  {
   "cell_type": "code",
   "execution_count": 20,
   "id": "5f387702",
   "metadata": {
    "ExecuteTime": {
     "end_time": "2022-10-30T19:25:36.322334Z",
     "start_time": "2022-10-30T19:25:36.072563Z"
    }
   },
   "outputs": [],
   "source": [
    "with open('top_p.npy', 'wb') as f:\n",
    "    np.save(f, var_per_co_top_p)"
   ]
  },
  {
   "cell_type": "code",
   "execution_count": 19,
   "id": "65e0872c",
   "metadata": {
    "ExecuteTime": {
     "end_time": "2022-10-30T19:22:33.392560Z",
     "start_time": "2022-10-30T19:22:33.384490Z"
    }
   },
   "outputs": [
    {
     "data": {
      "text/plain": [
       "array([2.87089149e-02, 1.48555844e-02, 1.00670136e-02, ...,\n",
       "       5.19569855e-07, 5.19347082e-07, 5.18890519e-07])"
      ]
     },
     "execution_count": 19,
     "metadata": {},
     "output_type": "execute_result"
    }
   ],
   "source": [
    "var_per_co_top_p"
   ]
  },
  {
   "cell_type": "code",
   "execution_count": null,
   "id": "37a705a9",
   "metadata": {},
   "outputs": [],
   "source": [
    "# 2000 0.9573511885700635\n",
    "# 1900 0.9538011688091019\n",
    "# 1800 0.9497146330351272\n",
    "# 1750 0.947414576598893\n",
    "# [2.87089149e-02 1.48555844e-02 1.00670136e-02 ... 3.96479000e-05\n",
    "# 3.94990655e-05 3.91182891e-05]\n",
    "# [13643.81625856  9814.5941059   8079.37565841 ...   507.03456656\n",
    "# 506.08199174   503.63673422]"
   ]
  },
  {
   "cell_type": "code",
   "execution_count": 9,
   "id": "c2865bac",
   "metadata": {
    "ExecuteTime": {
     "end_time": "2022-10-30T15:57:06.517598Z",
     "start_time": "2022-10-30T15:57:05.993570Z"
    }
   },
   "outputs": [],
   "source": [
    "top_pval_allgenes_path='/dh-projects/uk_bb_intergenics/analysis/development/aboughas/results/dataset_all_genes_top_pval/splits/'\n",
    "\n",
    "ob_allgenes=pd.read_csv(top_pval_allgenes_path +'all_chrs_train.dataset_all_genes_top_pval-100k.obs.csv')\n",
    "\n",
    "var_allgenes=pd.read_csv(top_pval_allgenes_path +'all_chrs_train.dataset_all_genes_top_pval-100k.var.csv')\n",
    "\n",
    "x_allgenes=len(ob_allgenes.index)\n",
    "\n",
    "y_allgenes=len(var_allgenes.index)\n",
    "\n",
    "dtype_allgenes = pd.read_pickle(top_pval_allgenes_path+'all_chrs_train.dataset_all_genes_top_pval-100k.uns.pkl')"
   ]
  },
  {
   "cell_type": "code",
   "execution_count": 10,
   "id": "4cabbb24",
   "metadata": {
    "ExecuteTime": {
     "end_time": "2022-10-30T15:57:08.852402Z",
     "start_time": "2022-10-30T15:57:08.845734Z"
    }
   },
   "outputs": [],
   "source": [
    "allgenes_bestp=np.memmap(mode='r+',shape=(x_allgenes,y_allgenes),dtype=dtype_allgenes['dtype'],\n",
    "                          filename=top_pval_allgenes_path+'all_chrs_train.dataset_all_genes_top_pval-100k.X.npy')"
   ]
  },
  {
   "cell_type": "code",
   "execution_count": 11,
   "id": "1d1dc78e",
   "metadata": {
    "ExecuteTime": {
     "end_time": "2022-10-30T17:18:06.246443Z",
     "start_time": "2022-10-30T16:05:12.406718Z"
    }
   },
   "outputs": [],
   "source": [
    "pca_allgenes_bestp = PCA(n_components=10_000)\n",
    "pca_allgenes_bestp.fit(allgenes_bestp) \n",
    "\n",
    "var_allgenes_bestp = pca_allgenes_bestp.explained_variance_ratio_\n",
    "\n"
   ]
  },
  {
   "cell_type": "code",
   "execution_count": 12,
   "id": "0b5bf31f",
   "metadata": {
    "ExecuteTime": {
     "end_time": "2022-10-30T17:18:06.483998Z",
     "start_time": "2022-10-30T17:18:06.477688Z"
    }
   },
   "outputs": [
    {
     "data": {
      "text/plain": [
       "0.7362219062372867"
      ]
     },
     "execution_count": 12,
     "metadata": {},
     "output_type": "execute_result"
    }
   ],
   "source": [
    "pca_allgenes_bestp.explained_variance_ratio_.sum()"
   ]
  },
  {
   "cell_type": "code",
   "execution_count": 23,
   "id": "d29fe7ee",
   "metadata": {
    "ExecuteTime": {
     "end_time": "2022-10-30T20:00:43.408330Z",
     "start_time": "2022-10-30T20:00:43.194586Z"
    }
   },
   "outputs": [],
   "source": [
    "with open('pca_allgenes_bestp.npy', 'wb') as f:\n",
    "    np.save(f, var_allgenes_bestp)"
   ]
  },
  {
   "cell_type": "code",
   "execution_count": null,
   "id": "c580a3a0",
   "metadata": {
    "ExecuteTime": {
     "start_time": "2022-10-26T15:54:19.677Z"
    }
   },
   "outputs": [],
   "source": [
    "# 2000 0.3160543662895987\n",
    "# 10_000 0.7362227152260603\n",
    "# 17_000 0.8735261525786419\n"
   ]
  },
  {
   "cell_type": "code",
   "execution_count": 14,
   "id": "ff0f9f30",
   "metadata": {
    "ExecuteTime": {
     "end_time": "2022-10-30T17:52:29.110898Z",
     "start_time": "2022-10-30T17:52:27.222827Z"
    }
   },
   "outputs": [],
   "source": [
    "most_common_path='/dh-projects/uk_bb_intergenics/analysis/development/aboughas/results/dataset_most_common/splits/'\n",
    "\n",
    "ob_most_common=pd.read_csv(most_common_path +'all_chrs_train.dataset_most_common-100k.obs.csv')\n",
    "\n",
    "var_most_common=pd.read_csv(most_common_path +'all_chrs_train.dataset_most_common-100k.var.csv')\n",
    "\n",
    "x_most_common=len(ob_most_common.index)\n",
    "\n",
    "y_most_common=len(var_most_common.index)\n",
    "\n",
    "dtype_most_common = pd.read_pickle(most_common_path+'all_chrs_train.dataset_most_common-100k.uns.pkl')"
   ]
  },
  {
   "cell_type": "code",
   "execution_count": 15,
   "id": "b72cdc0f",
   "metadata": {
    "ExecuteTime": {
     "end_time": "2022-10-30T17:52:29.248394Z",
     "start_time": "2022-10-30T17:52:29.213439Z"
    }
   },
   "outputs": [],
   "source": [
    "most_common=np.memmap(mode='r+',shape=(x_most_common,y_most_common),dtype=dtype_most_common['dtype'],\n",
    "                          filename=most_common_path+'all_chrs_train.dataset_most_common-100k.X.npy')"
   ]
  },
  {
   "cell_type": "code",
   "execution_count": 16,
   "id": "62bba5a1",
   "metadata": {
    "ExecuteTime": {
     "end_time": "2022-10-30T19:08:16.879539Z",
     "start_time": "2022-10-30T17:52:32.492276Z"
    }
   },
   "outputs": [],
   "source": [
    "pca_most_common = PCA(n_components=10_000)\n",
    "pca_most_common.fit(most_common) \n",
    "\n",
    "var_per_co_most_common = pca_allgenes_bestp.explained_variance_ratio_\n",
    "\n"
   ]
  },
  {
   "cell_type": "code",
   "execution_count": 1,
   "id": "1d0c64ce",
   "metadata": {
    "ExecuteTime": {
     "end_time": "2022-10-31T13:21:57.226790Z",
     "start_time": "2022-10-31T13:21:56.814433Z"
    }
   },
   "outputs": [
    {
     "ename": "NameError",
     "evalue": "name 'var_per_co_most_common' is not defined",
     "output_type": "error",
     "traceback": [
      "\u001b[0;31m---------------------------------------------------------------------------\u001b[0m",
      "\u001b[0;31mNameError\u001b[0m                                 Traceback (most recent call last)",
      "Input \u001b[0;32mIn [1]\u001b[0m, in \u001b[0;36m<cell line: 1>\u001b[0;34m()\u001b[0m\n\u001b[0;32m----> 1\u001b[0m \u001b[43mvar_per_co_most_common\u001b[49m\u001b[38;5;241m.\u001b[39msum()\n",
      "\u001b[0;31mNameError\u001b[0m: name 'var_per_co_most_common' is not defined"
     ]
    }
   ],
   "source": [
    "var_per_co_most_common.sum()"
   ]
  },
  {
   "cell_type": "code",
   "execution_count": 25,
   "id": "1667111e",
   "metadata": {
    "ExecuteTime": {
     "end_time": "2022-10-30T20:01:17.305208Z",
     "start_time": "2022-10-30T20:01:17.031758Z"
    }
   },
   "outputs": [],
   "source": [
    "with open('pca_most_common.npy', 'wb') as f:\n",
    "    np.save(f, var_per_co_most_common)"
   ]
  },
  {
   "cell_type": "code",
   "execution_count": null,
   "id": "ca2f3361",
   "metadata": {},
   "outputs": [],
   "source": [
    "most_common_path='/dh-projects/uk_bb_intergenics/analysis/development/aboughas/results/dataset_most_common/splits/'\n",
    "\n",
    "ob_most_common=pd.read_csv(most_common_path +'all_chrs_train.dataset_most_common-100k.obs.csv')\n",
    "\n",
    "var_most_common=pd.read_csv(most_common_path +'all_chrs_train.dataset_most_common-100k.var.csv')\n",
    "\n",
    "x_most_common=len(ob_most_common.index)\n",
    "\n",
    "y_most_common=len(var_most_common.index)\n",
    "\n",
    "dtype_most_common = pd.read_pickle(most_common_path+'all_chrs_train.dataset_most_common-100k.uns.pkl')"
   ]
  }
 ],
 "metadata": {
  "kernelspec": {
   "display_name": "Python [conda env:miniconda3-u013]",
   "language": "python",
   "name": "conda-env-miniconda3-u013-py"
  },
  "language_info": {
   "codemirror_mode": {
    "name": "ipython",
    "version": 3
   },
   "file_extension": ".py",
   "mimetype": "text/x-python",
   "name": "python",
   "nbconvert_exporter": "python",
   "pygments_lexer": "ipython3",
   "version": "3.9.13"
  },
  "toc": {
   "base_numbering": 1,
   "nav_menu": {},
   "number_sections": true,
   "sideBar": true,
   "skip_h1_title": false,
   "title_cell": "Table of Contents",
   "title_sidebar": "Contents",
   "toc_cell": false,
   "toc_position": {},
   "toc_section_display": true,
   "toc_window_display": false
  },
  "varInspector": {
   "cols": {
    "lenName": 16,
    "lenType": 16,
    "lenVar": 40
   },
   "kernels_config": {
    "python": {
     "delete_cmd_postfix": "",
     "delete_cmd_prefix": "del ",
     "library": "var_list.py",
     "varRefreshCmd": "print(var_dic_list())"
    },
    "r": {
     "delete_cmd_postfix": ") ",
     "delete_cmd_prefix": "rm(",
     "library": "var_list.r",
     "varRefreshCmd": "cat(var_dic_list()) "
    }
   },
   "types_to_exclude": [
    "module",
    "function",
    "builtin_function_or_method",
    "instance",
    "_Feature"
   ],
   "window_display": false
  }
 },
 "nbformat": 4,
 "nbformat_minor": 5
}
